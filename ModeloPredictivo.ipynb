{
 "cells": [
  {
   "cell_type": "code",
   "execution_count": 77,
   "id": "278ebafc",
   "metadata": {},
   "outputs": [],
   "source": [
    "import numpy as np\n",
    "import pandas as pd\n",
    "import warnings\n",
    "warnings.filterwarnings('ignore')\n",
    "from sklearn.metrics import mean_squared_error\n",
    "\n",
    "from sklearn.preprocessing import StandardScaler, PowerTransformer\n",
    "from sklearn.compose import TransformedTargetRegressor\n",
    "from sklearn.pipeline import FeatureUnion, Pipeline, make_pipeline\n",
    "from sklearn.base import BaseEstimator, TransformerMixin\n",
    "\n",
    "from sklearn.linear_model import LinearRegression"
   ]
  },
  {
   "cell_type": "code",
   "execution_count": 78,
   "id": "8310a4c7",
   "metadata": {},
   "outputs": [],
   "source": [
    "registros = []\n",
    "for _ in range(5):\n",
    "    x1 = np.random.randint(1, 11)  # Número entero aleatorio entre 1 y 10\n",
    "    x2 = np.random.randint(1, 11)  # Número entero aleatorio entre 1 y 10\n",
    "    y = np.sqrt(x1) + np.sqrt(x2)\n",
    "    registros.append([x1, x2, y])"
   ]
  },
  {
   "cell_type": "code",
   "execution_count": 79,
   "id": "1c9b5144",
   "metadata": {},
   "outputs": [
    {
     "name": "stdout",
     "output_type": "stream",
     "text": [
      "Conjunto de entrenamiento:\n",
      "   x1  x2         y\n",
      "0   4   7  4.645751\n",
      "1   6   1  3.449490\n",
      "2   3   4  3.732051\n",
      "3   7   9  5.645751\n",
      "\n",
      "Conjunto de prueba:\n",
      "   x1  x2         y\n",
      "4   6   2  3.863703\n"
     ]
    }
   ],
   "source": [
    "# Crear un DataFrame con las columnas x1, x2 e y\n",
    "df = pd.DataFrame(registros, columns=['x1', 'x2', 'y'])\n",
    "\n",
    "# Dividir en conjuntos de entrenamiento y prueba\n",
    "train = df.iloc[:4]\n",
    "test = df.iloc[4:]\n",
    "\n",
    "# Separar las características (x1, x2) de la variable objetivo (y) en conjuntos de entrenamiento y prueba\n",
    "train_X = train[['x1', 'x2']]\n",
    "train_y = train['y']\n",
    "\n",
    "test_X = test[['x1', 'x2']]\n",
    "test_y = test['y']\n",
    "\n",
    "# Mostrar el DataFrame de entrenamiento\n",
    "print(\"Conjunto de entrenamiento:\")\n",
    "print(train)\n",
    "\n",
    "# Mostrar el DataFrame de prueba\n",
    "print(\"\\nConjunto de prueba:\")\n",
    "print(test)\n"
   ]
  },
  {
   "cell_type": "code",
   "execution_count": 80,
   "id": "3b3759bc",
   "metadata": {},
   "outputs": [
    {
     "name": "stdout",
     "output_type": "stream",
     "text": [
      "\n",
      "[3.70472317]\n",
      "RMSE: 0.158980134157793\n",
      "\n"
     ]
    }
   ],
   "source": [
    "\n",
    "#  verificacmos si la regresión lineal puede predecir correctamente\n",
    "\n",
    "m1 = LinearRegression()\n",
    "fit1 = m1.fit(train_X, train_y)\n",
    "preds = fit1.predict(test_X)\n",
    "print(f\"\\n{preds}\")\n",
    "print(f\"RMSE: {np.sqrt(mean_squared_error(test_y, preds))}\\n\")"
   ]
  },
  {
   "cell_type": "code",
   "execution_count": 81,
   "id": "7da80ea2",
   "metadata": {},
   "outputs": [
    {
     "name": "stdout",
     "output_type": "stream",
     "text": [
      "   x1        x2\n",
      "4   6  2.828427\n",
      "\n",
      "[3.85483423]\n",
      "RMSE: 0.008869074032813451\n",
      "\n"
     ]
    }
   ],
   "source": [
    "# Las predicciones no son malas, pero hagamos algunos cálculos sobre las características de entrada para mejorar\n",
    "# ¿Qué pasa si sacamos la raíz cuadrada de X2 y multiplicamos por 2?\n",
    "\n",
    "train_X.x2 = 2*np.sqrt(train_X.x2)\n",
    "\n",
    "test_X.x2 =  2*np.sqrt (test_X.x2)\n",
    "\n",
    "print(test_X)\n",
    "\n",
    "m2 = LinearRegression()\n",
    "\n",
    "fit2 = m2.fit(train_X, train_y)\n",
    "\n",
    "preds = fit2.predict(test_X)\n",
    "\n",
    "print(f\"\\n{preds}\")\n",
    "\n",
    "print(f\"RMSE: {np.sqrt(mean_squared_error(test_y, preds))}\\n\")"
   ]
  },
  {
   "cell_type": "code",
   "execution_count": 82,
   "id": "cb3ae429",
   "metadata": {},
   "outputs": [],
   "source": [
    "\n",
    "# Creamos una clase transformadora\n",
    "\n",
    "#__init__: este es el constructor. Se llama cuando se inicializa el pipeline.\n",
    "#fit(): Se llama cuando hacemos fit en el pipeline.\n",
    "#transform(): se llama cuando usamos fit o transform en el pipeline\n",
    "\n",
    "class ExperimentalTransformer(BaseEstimator, TransformerMixin):\n",
    "  def __init__(self):\n",
    "    print('\\n>>>>>>>init() called.\\n')\n",
    "\n",
    "  def fit(self, X, y = None):\n",
    "    print('\\n>>>>>>>fit() called.\\n')\n",
    "    return self\n",
    "\n",
    "  def transform(self, X, y = None):\n",
    "    print('\\n>>>>>>>transform() called.\\n')\n",
    "    X_ = X.copy() # creamos una copia para evitar cambios en el conjunto de datos original\n",
    "    X_.X2 = 2 * np.sqrt(X_.X2)\n",
    "    return X_\n",
    "     "
   ]
  },
  {
   "cell_type": "code",
   "execution_count": 83,
   "id": "32fbe17a",
   "metadata": {},
   "outputs": [
    {
     "name": "stdout",
     "output_type": "stream",
     "text": [
      "create pipeline 1\n",
      "fit pipeline 1\n",
      "predict via pipeline 1\n",
      "\n",
      "[3.85483423]\n",
      "RMSE: 0.008869074032813451\n",
      "\n"
     ]
    }
   ],
   "source": [
    "print(\"create pipeline 1\")\n",
    "pipe1 = Pipeline(steps=[\n",
    "                       ('linear_model', LinearRegression())\n",
    "])\n",
    "\n",
    "print(\"fit pipeline 1\")\n",
    "pipe1.fit(train_X, train_y)\n",
    "\n",
    "print(\"predict via pipeline 1\")\n",
    "preds1 = pipe1.predict(test_X)\n",
    "\n",
    "print(f\"\\n{preds1}\")  # should be [13.72113586 16.93334467]\n",
    "print(f\"RMSE: {np.sqrt(mean_squared_error(test_y, preds1))}\\n\")"
   ]
  },
  {
   "cell_type": "code",
   "execution_count": null,
   "id": "c4356291",
   "metadata": {},
   "outputs": [],
   "source": []
  }
 ],
 "metadata": {
  "kernelspec": {
   "display_name": "Python 3 (ipykernel)",
   "language": "python",
   "name": "python3"
  },
  "language_info": {
   "codemirror_mode": {
    "name": "ipython",
    "version": 3
   },
   "file_extension": ".py",
   "mimetype": "text/x-python",
   "name": "python",
   "nbconvert_exporter": "python",
   "pygments_lexer": "ipython3",
   "version": "3.11.3"
  }
 },
 "nbformat": 4,
 "nbformat_minor": 5
}
